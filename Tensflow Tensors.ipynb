{
 "cells": [
  {
   "cell_type": "code",
   "execution_count": 2,
   "id": "b8dae0b6-979d-4c69-809f-efdd2280e4c2",
   "metadata": {},
   "outputs": [
    {
     "ename": "ModuleNotFoundError",
     "evalue": "No module named 'tensorflow'",
     "output_type": "error",
     "traceback": [
      "\u001b[0;31m---------------------------------------------------------------------------\u001b[0m",
      "\u001b[0;31mModuleNotFoundError\u001b[0m                       Traceback (most recent call last)",
      "Cell \u001b[0;32mIn[2], line 1\u001b[0m\n\u001b[0;32m----> 1\u001b[0m \u001b[38;5;28;01mimport\u001b[39;00m \u001b[38;5;21;01mtensorflow\u001b[39;00m \u001b[38;5;28;01mas\u001b[39;00m \u001b[38;5;21;01mtf\u001b[39;00m\n",
      "\u001b[0;31mModuleNotFoundError\u001b[0m: No module named 'tensorflow'"
     ]
    }
   ],
   "source": [
    "import tensorflow as tf"
   ]
  },
  {
   "cell_type": "code",
   "execution_count": 1,
   "id": "56ee1e19-ef02-4463-8602-9a07c1677b98",
   "metadata": {},
   "outputs": [
    {
     "name": "stdout",
     "output_type": "stream",
     "text": [
      "Defaulting to user installation because normal site-packages is not writeable\n",
      "Collecting tensorflow\n",
      "  Downloading tensorflow-2.15.0.post1-cp310-cp310-manylinux_2_17_x86_64.manylinux2014_x86_64.whl (475.2 MB)\n",
      "\u001b[2K     \u001b[38;2;249;38;114m━━━━━━━━━━━\u001b[0m\u001b[38;5;237m╺\u001b[0m\u001b[38;5;237m━━━━━━━━━━━━━━━━━━━━━━━━━━\u001b[0m \u001b[32m142.9/475.2 MB\u001b[0m \u001b[31m36.7 kB/s\u001b[0m eta \u001b[36m2:30:47\u001b[0m:26\u001b[0m\n",
      "\u001b[?25h\u001b[31mERROR: Exception:\n",
      "Traceback (most recent call last):\n",
      "  File \"/usr/lib/python3/dist-packages/pip/_vendor/urllib3/response.py\", line 438, in _error_catcher\n",
      "    yield\n",
      "  File \"/usr/lib/python3/dist-packages/pip/_vendor/urllib3/response.py\", line 519, in read\n",
      "    data = self._fp.read(amt) if not fp_closed else b\"\"\n",
      "  File \"/usr/lib/python3/dist-packages/pip/_vendor/cachecontrol/filewrapper.py\", line 90, in read\n",
      "    data = self.__fp.read(amt)\n",
      "  File \"/usr/lib/python3.10/http/client.py\", line 466, in read\n",
      "    s = self.fp.read(amt)\n",
      "  File \"/usr/lib/python3.10/socket.py\", line 705, in readinto\n",
      "    return self._sock.recv_into(b)\n",
      "  File \"/usr/lib/python3.10/ssl.py\", line 1303, in recv_into\n",
      "    return self.read(nbytes, buffer)\n",
      "  File \"/usr/lib/python3.10/ssl.py\", line 1159, in read\n",
      "    return self._sslobj.read(len, buffer)\n",
      "TimeoutError: The read operation timed out\n",
      "\n",
      "During handling of the above exception, another exception occurred:\n",
      "\n",
      "Traceback (most recent call last):\n",
      "  File \"/usr/lib/python3/dist-packages/pip/_internal/cli/base_command.py\", line 165, in exc_logging_wrapper\n",
      "    status = run_func(*args)\n",
      "  File \"/usr/lib/python3/dist-packages/pip/_internal/cli/req_command.py\", line 205, in wrapper\n",
      "    return func(self, options, args)\n",
      "  File \"/usr/lib/python3/dist-packages/pip/_internal/commands/install.py\", line 339, in run\n",
      "    requirement_set = resolver.resolve(\n",
      "  File \"/usr/lib/python3/dist-packages/pip/_internal/resolution/resolvelib/resolver.py\", line 94, in resolve\n",
      "    result = self._result = resolver.resolve(\n",
      "  File \"/usr/lib/python3/dist-packages/pip/_vendor/resolvelib/resolvers.py\", line 481, in resolve\n",
      "    state = resolution.resolve(requirements, max_rounds=max_rounds)\n",
      "  File \"/usr/lib/python3/dist-packages/pip/_vendor/resolvelib/resolvers.py\", line 348, in resolve\n",
      "    self._add_to_criteria(self.state.criteria, r, parent=None)\n",
      "  File \"/usr/lib/python3/dist-packages/pip/_vendor/resolvelib/resolvers.py\", line 172, in _add_to_criteria\n",
      "    if not criterion.candidates:\n",
      "  File \"/usr/lib/python3/dist-packages/pip/_vendor/resolvelib/structs.py\", line 151, in __bool__\n",
      "    return bool(self._sequence)\n",
      "  File \"/usr/lib/python3/dist-packages/pip/_internal/resolution/resolvelib/found_candidates.py\", line 155, in __bool__\n",
      "    return any(self)\n",
      "  File \"/usr/lib/python3/dist-packages/pip/_internal/resolution/resolvelib/found_candidates.py\", line 143, in <genexpr>\n",
      "    return (c for c in iterator if id(c) not in self._incompatible_ids)\n",
      "  File \"/usr/lib/python3/dist-packages/pip/_internal/resolution/resolvelib/found_candidates.py\", line 47, in _iter_built\n",
      "    candidate = func()\n",
      "  File \"/usr/lib/python3/dist-packages/pip/_internal/resolution/resolvelib/factory.py\", line 215, in _make_candidate_from_link\n",
      "    self._link_candidate_cache[link] = LinkCandidate(\n",
      "  File \"/usr/lib/python3/dist-packages/pip/_internal/resolution/resolvelib/candidates.py\", line 288, in __init__\n",
      "    super().__init__(\n",
      "  File \"/usr/lib/python3/dist-packages/pip/_internal/resolution/resolvelib/candidates.py\", line 158, in __init__\n",
      "    self.dist = self._prepare()\n",
      "  File \"/usr/lib/python3/dist-packages/pip/_internal/resolution/resolvelib/candidates.py\", line 227, in _prepare\n",
      "    dist = self._prepare_distribution()\n",
      "  File \"/usr/lib/python3/dist-packages/pip/_internal/resolution/resolvelib/candidates.py\", line 299, in _prepare_distribution\n",
      "    return preparer.prepare_linked_requirement(self._ireq, parallel_builds=True)\n",
      "  File \"/usr/lib/python3/dist-packages/pip/_internal/operations/prepare.py\", line 487, in prepare_linked_requirement\n",
      "    return self._prepare_linked_requirement(req, parallel_builds)\n",
      "  File \"/usr/lib/python3/dist-packages/pip/_internal/operations/prepare.py\", line 532, in _prepare_linked_requirement\n",
      "    local_file = unpack_url(\n",
      "  File \"/usr/lib/python3/dist-packages/pip/_internal/operations/prepare.py\", line 214, in unpack_url\n",
      "    file = get_http_url(\n",
      "  File \"/usr/lib/python3/dist-packages/pip/_internal/operations/prepare.py\", line 94, in get_http_url\n",
      "    from_path, content_type = download(link, temp_dir.path)\n",
      "  File \"/usr/lib/python3/dist-packages/pip/_internal/network/download.py\", line 146, in __call__\n",
      "    for chunk in chunks:\n",
      "  File \"/usr/lib/python3/dist-packages/pip/_internal/cli/progress_bars.py\", line 304, in _rich_progress_bar\n",
      "    for chunk in iterable:\n",
      "  File \"/usr/lib/python3/dist-packages/pip/_internal/network/utils.py\", line 63, in response_chunks\n",
      "    for chunk in response.raw.stream(\n",
      "  File \"/usr/lib/python3/dist-packages/pip/_vendor/urllib3/response.py\", line 576, in stream\n",
      "    data = self.read(amt=amt, decode_content=decode_content)\n",
      "  File \"/usr/lib/python3/dist-packages/pip/_vendor/urllib3/response.py\", line 512, in read\n",
      "    with self._error_catcher():\n",
      "  File \"/usr/lib/python3.10/contextlib.py\", line 153, in __exit__\n",
      "    self.gen.throw(typ, value, traceback)\n",
      "  File \"/usr/lib/python3/dist-packages/pip/_vendor/urllib3/response.py\", line 443, in _error_catcher\n",
      "    raise ReadTimeoutError(self._pool, None, \"Read timed out.\")\n",
      "pip._vendor.urllib3.exceptions.ReadTimeoutError: HTTPSConnectionPool(host='files.pythonhosted.org', port=443): Read timed out.\u001b[0m\u001b[31m\n",
      "\u001b[0mNote: you may need to restart the kernel to use updated packages.\n"
     ]
    }
   ],
   "source": [
    "pip install tensorflow\n"
   ]
  },
  {
   "cell_type": "markdown",
   "id": "ec3ca729-e57a-4d05-b301-153e895d424b",
   "metadata": {},
   "source": [
    "## Creating tensors"
   ]
  },
  {
   "cell_type": "code",
   "execution_count": null,
   "id": "80eea960-5497-4c59-80c6-d8fcd3d8ea9c",
   "metadata": {},
   "outputs": [],
   "source": []
  },
  {
   "cell_type": "code",
   "execution_count": 2,
   "id": "59c51ab3-6d24-4439-a1f0-b843fe5420b9",
   "metadata": {},
   "outputs": [
    {
     "ename": "ModuleNotFoundError",
     "evalue": "No module named 'tensflow'",
     "output_type": "error",
     "traceback": [
      "\u001b[0;31m---------------------------------------------------------------------------\u001b[0m",
      "\u001b[0;31mModuleNotFoundError\u001b[0m                       Traceback (most recent call last)",
      "Cell \u001b[0;32mIn[2], line 1\u001b[0m\n\u001b[0;32m----> 1\u001b[0m \u001b[38;5;28;01mimport\u001b[39;00m \u001b[38;5;21;01mtensflow\u001b[39;00m \u001b[38;5;28;01mas\u001b[39;00m \u001b[38;5;21;01mtf\u001b[39;00m\n",
      "\u001b[0;31mModuleNotFoundError\u001b[0m: No module named 'tensflow'"
     ]
    }
   ],
   "source": [
    "import tensflow as tf"
   ]
  },
  {
   "cell_type": "code",
   "execution_count": null,
   "id": "781abadb-a638-4f67-839f-c45840c8a0b0",
   "metadata": {},
   "outputs": [],
   "source": [
    "#zero_D tensors\n",
    "tensor_zero_d=tf.constant(4)\n",
    "tensor_zero_d\n",
    "#the output shows that teh zero_d tensors have no shape"
   ]
  },
  {
   "cell_type": "code",
   "execution_count": null,
   "id": "c7c1b6ce-d698-4d00-8280-8a59d057bb9f",
   "metadata": {},
   "outputs": [],
   "source": [
    "#one_d tensors\n",
    "tensor_one_d=tf.constant([2,-4,6,5])\n",
    "tensor_one_d\n",
    "#the output datatype is an integer becoz in the list we have integers but if we include float  and integers the datatype will change to float "
   ]
  },
  {
   "cell_type": "code",
   "execution_count": null,
   "id": "3b48d0b1-e3ad-46c3-a2bf-d61ed4f7e373",
   "metadata": {},
   "outputs": [],
   "source": [
    "#get to see the dfference of teh integers\n",
    "tes_one_d=tf.constant([3,2,5,90.0])"
   ]
  },
  {
   "cell_type": "code",
   "execution_count": null,
   "id": "e07b6875-3615-4c91-8f21-c46a00ec6e67",
   "metadata": {},
   "outputs": [],
   "source": [
    "#two_d_tensor\n",
    "tensor_two_d=tf.constant([[2,3,4],[4,6,7],[6,7,8]])\n",
    "tensor_two_d"
   ]
  },
  {
   "cell_type": "code",
   "execution_count": null,
   "id": "0567caff-597c-4819-927c-b8a31ff0d408",
   "metadata": {},
   "outputs": [],
   "source": [
    "#three_d_tensors\n",
    "tensor_three_d=tf.constant([\n",
    "    [[1,2,3],[3,4,5]],\n",
    "    [[2,3,6],[6,7,8]],\n",
    "    [[4,5,6],[5,6,7]],\n",
    "])\n",
    "tensor_three_d"
   ]
  },
  {
   "cell_type": "code",
   "execution_count": null,
   "id": "ab308e86-fb4c-407f-a36b-c88b12bc1528",
   "metadata": {},
   "outputs": [],
   "source": [
    "#note: when you stack one d array you get two d array,  stacking two d array you get three d array and stacking three d array you get 4 d array"
   ]
  },
  {
   "cell_type": "code",
   "execution_count": null,
   "id": "04e4342c-c4b0-4401-9197-84ef5fd799bd",
   "metadata": {},
   "outputs": [],
   "source": [
    "#four_d_tensors\n",
    "tensor_four_d=tf.constant([\n",
    "   [\n",
    "    [[1,20,3],[3,4,5]],\n",
    "    [[2,3,6],[6,70,8]],\n",
    "    [[4,5,60],[5,6,7]],\n",
    "],\n",
    "    [\n",
    "    [[10,2,3],[3,46,5]],\n",
    "    [[2,3,86],[6,7,8]],\n",
    "    [[4,5,6],[5,76,7]],\n",
    "],\n",
    "    [\n",
    "    [[19,2,3],[30,4,5]],\n",
    "    [[20,3,6],[60,7,8]],\n",
    "    [[49,5,6],[50,6,7]],\n",
    "]\n",
    "    \n",
    "])\n",
    "tensor_four_d"
   ]
  },
  {
   "cell_type": "markdown",
   "id": "51fc86fd-91e2-47a4-9adc-b2ed489dfa4c",
   "metadata": {},
   "source": [
    "## TENSORFLOW OPERATIONS"
   ]
  },
  {
   "cell_type": "markdown",
   "id": "5541d56c-ae2a-43a3-b5e2-d69b2ca6d280",
   "metadata": {},
   "source": [
    "## casting operations"
   ]
  },
  {
   "cell_type": "code",
   "execution_count": null,
   "id": "e0cc56a6-cb8b-4519-aa4d-69f124c6ce29",
   "metadata": {},
   "outputs": [],
   "source": [
    "#casting the float value to be a float\n",
    "tens=tf.constant([2,0,9.0,8.1],dtype=float32)\n",
    "casted_tensor=tf.cast(tens,dtype=tf.int16)\n",
    "casted_tensor"
   ]
  },
  {
   "cell_type": "code",
   "execution_count": null,
   "id": "a934267f-3adb-434e-8a82-8400d2e660f5",
   "metadata": {},
   "outputs": [],
   "source": [
    "#casting a float value to be a boolean\n",
    "#what  castind does in boolean it returns true to any non zero and false to a zero number\n",
    "cast_tensor=tf.cast(tens,dtype=tf.bool)\n",
    "cast_tensor"
   ]
  },
  {
   "cell_type": "markdown",
   "id": "761dddaf-d37b-450b-a588-5769e1a2368c",
   "metadata": {},
   "source": [
    "## converting numpy array to tensor"
   ]
  },
  {
   "cell_type": "code",
   "execution_count": null,
   "id": "70980f1a-f1fa-49c8-9818-45f81cb88cb5",
   "metadata": {},
   "outputs": [],
   "source": [
    "#creating numpy array\n",
    "numpy_array=np.array([2,3,4])\n",
    "numpy_array\n"
   ]
  },
  {
   "cell_type": "code",
   "execution_count": null,
   "id": "b881d4fc-660e-4ffe-a9d7-938d097c660b",
   "metadata": {},
   "outputs": [],
   "source": [
    "# converting numpy array to tensor\n",
    "convert=tf.convert_to_tensor(numpy_array)\n",
    "convert"
   ]
  },
  {
   "cell_type": "markdown",
   "id": "5173722a-ca5f-493f-81b5-2614f0f3a3dc",
   "metadata": {},
   "source": [
    "## tensflow eye method\n",
    "#creating the matrix/ matrices  from the eye method"
   ]
  },
  {
   "cell_type": "code",
   "execution_count": null,
   "id": "08ac8338-2659-4dd1-8c5c-a32db6f54789",
   "metadata": {},
   "outputs": [],
   "source": [
    "# the eye method constructs the  identity matrix or a  batch of matrices\n",
    "eye_tensor=tf.eye(num_rows=3,\n",
    "                  num_columns=None,\n",
    "                  batch_shape=None,\n",
    "                  dtype=tf.dtypes.float32,\n",
    "                  nam=None)\n",
    "eye_tensor\n",
    "# the identity matrix is a matrix where the  leading diagnonal values are 1"
   ]
  },
  {
   "cell_type": "code",
   "execution_count": null,
   "id": "a9019096-dfbf-44a0-97a3-7d547fb4d2b1",
   "metadata": {},
   "outputs": [],
   "source": [
    "#how ever you can change the values of the diagonal by multiplying with the value you want to be the leading diagonel\n",
    "print(3* eye_tensor)\n"
   ]
  },
  {
   "cell_type": "code",
   "execution_count": null,
   "id": "abab8938-bd5e-4675-af3c-10c0e74f21d2",
   "metadata": {},
   "outputs": [],
   "source": [
    "#you can change the datatype\n",
    "eye_tensor=tf.eye(num_rows=3,\n",
    "                  num_columns=None,\n",
    "                  batch_shape=None,\n",
    "                  dtype=tf.dtypes.bool,\n",
    "                  nam=None)\n",
    "eye_tensor"
   ]
  },
  {
   "cell_type": "code",
   "execution_count": null,
   "id": "56506f80-4545-4cf4-88d5-b1204320022f",
   "metadata": {},
   "outputs": [],
   "source": [
    "#you acn specify the number of columns  and rows\n",
    "eye_tensor=tf.eye(num_rows=5,\n",
    "                  num_columns=3,\n",
    "                  batch_shape=None,\n",
    "                  dtype=tf.dtypes.float32,\n",
    "                  nam=None)\n",
    "eye_tensor"
   ]
  },
  {
   "cell_type": "code",
   "execution_count": null,
   "id": "9e650d95-5837-4703-8a45-358a69c584e7",
   "metadata": {},
   "outputs": [],
   "source": [
    "# specifying the batches, which results to a shape of (2,5,3)\n",
    "eye_tensor=tf.eye(num_rows=5,\n",
    "                  num_columns=3,\n",
    "                  batch_shape=2,\n",
    "                  dtype=tf.dtypes.float32,\n",
    "                  nam=None)\n",
    "eye_tensor"
   ]
  },
  {
   "cell_type": "markdown",
   "id": "ab3cf97b-23b8-4443-9c5b-8d1ea2c957c7",
   "metadata": {},
   "source": [
    "## Tensflow  fill method\n",
    " #the method createss a tensor filled with a  scalar value\n"
   ]
  },
  {
   "cell_type": "code",
   "execution_count": null,
   "id": "e0f6ae1a-2c28-4d71-a968-1e21fabbe77d",
   "metadata": {},
   "outputs": [],
   "source": [
    "#what teh fill method dos ,once the rows and columns are specified the matrix is filled with the other value\n",
    "fill_tensor=tf.fill([3,4],5,name=None)\n",
    "fill_tensor"
   ]
  },
  {
   "cell_type": "code",
   "execution_count": null,
   "id": "4b86a9df-b581-47e4-9a04-8dccee0531ec",
   "metadata": {},
   "outputs": [],
   "source": [
    "#you can create various matrices even the three_d_tensor\n",
    "fill_tensor=tf.fill([1,3,4],5,name=None)\n",
    "fill_tensor"
   ]
  },
  {
   "cell_type": "markdown",
   "id": "f16fb2e2-1b80-4fd3-94d4-2e3658c03346",
   "metadata": {},
   "source": [
    "## Tensor one method\n",
    "#this method create a tensor  with all elements set to one(1)"
   ]
  },
  {
   "cell_type": "code",
   "execution_count": null,
   "id": "4d63b156-430d-4620-ac2f-09a44b47f42d",
   "metadata": {},
   "outputs": [],
   "source": [
    "# the fill and the ones method are same but what ones does it fills the specified matrix  with ones\n",
    "ones_tensor=tf.ones([5,3,2],dtype=tf.dtype.float32,name=tens)\n",
    "ones_tensor"
   ]
  },
  {
   "cell_type": "markdown",
   "id": "bec02f03-7364-40b0-b45c-4d1e06a4b97c",
   "metadata": {},
   "source": [
    "## Tensor oneS_like\n",
    "#the method creates a tensor of all ones taht has the same shape as the input\n"
   ]
  },
  {
   "cell_type": "code",
   "execution_count": null,
   "id": "8ab586ab-edc3-46f5-8e43-4cf5386d8847",
   "metadata": {},
   "outputs": [],
   "source": [
    "one_like_tensor=tf.ones_like(fill_tensor)\n",
    "one_like_tensor"
   ]
  },
  {
   "cell_type": "markdown",
   "id": "893ea127-d24e-42a9-bc5b-9cf5c5a4cf3a",
   "metadata": {},
   "source": [
    "## Tensorflow_zero\n",
    "#the method  creates a tensor  with all the elements set to zero"
   ]
  },
  {
   "cell_type": "code",
   "execution_count": null,
   "id": "d795a8eb-36b3-4aef-a10a-a7a69180d741",
   "metadata": {},
   "outputs": [],
   "source": [
    "zero_tensor=tf.zeros([3,4,5],dtype=tf.dtypes.float32,name=None)\n",
    "zero_tensor"
   ]
  },
  {
   "cell_type": "markdown",
   "id": "740adfbe-5c7c-44ea-98df-dc8b24619418",
   "metadata": {},
   "source": [
    "## Tensorflow_shape\n",
    "#the method returns a tensor containing the shape  of the input tensor\n",
    "\n",
    "#that is it is used to shhow the shape of the tensor\n"
   ]
  },
  {
   "cell_type": "code",
   "execution_count": null,
   "id": "7b384dad-d313-48b9-8bb5-53cc4953944e",
   "metadata": {},
   "outputs": [],
   "source": [
    "#this method can however be used to show the shape \n",
    "zero_tensor.shape\n",
    "# but it shows it as a list therefore the tf.shape can be used to show the shape itself"
   ]
  },
  {
   "cell_type": "code",
   "execution_count": null,
   "id": "4c7d991e-b3df-4f55-9afb-094ebf117f18",
   "metadata": {},
   "outputs": [],
   "source": [
    "#it is used to shope the specific shape\n",
    "print(tf.shape(zero_tensor))"
   ]
  },
  {
   "cell_type": "markdown",
   "id": "94de5c22-e1c6-4300-878f-2b7fb1b2ee94",
   "metadata": {},
   "source": [
    "## Tensorflow rank\n",
    "#the method returns  teh rank of the tensor"
   ]
  },
  {
   "cell_type": "markdown",
   "id": "5475077e-41e7-48d9-a529-b87baf65cb6a",
   "metadata": {},
   "source": [
    "## Tensorflow_size\n",
    "#the method returns the size of the tensor"
   ]
  },
  {
   "cell_type": "code",
   "execution_count": null,
   "id": "12811d26-f59f-4892-8d04-3e600bafe6f5",
   "metadata": {},
   "outputs": [],
   "source": [
    "#the method returns teh number of elements in a matrix/tensor\n",
    "size_tensor=tf.constan([[2,3,4],[3,4,5]])\n",
    "size_tensor\n",
    "# the numpy is the size of the tensor"
   ]
  },
  {
   "cell_type": "markdown",
   "id": "cf401ee0-6939-49d4-be73-d8a619e46d3e",
   "metadata": {},
   "source": [
    "## Tf.random.normal\n",
    "#it is a  method that creates random tensor\n",
    "#the random.normal means that the output random values is from a normal distribution"
   ]
  },
  {
   "cell_type": "code",
   "execution_count": null,
   "id": "cb9d2c7a-c6de-4004-8b8b-62a0d614dd4e",
   "metadata": {},
   "outputs": [],
   "source": [
    "#the  tensorflow random normal method, randomly pick the  values around the  mean\n",
    "#we can use the mean and the standard deviation to control the output \n",
    "#that is if the mean is set as zero the output values will be close to zero and when set to 100 the values will be close to 200\n",
    "random_tensor=tf.random.noraml([3,4],mean=20.0,stddev=1.0,dtype=tf.dtypes.float32,seed= None,name=None\n",
    "random_tensor                             "
   ]
  },
  {
   "cell_type": "markdown",
   "id": "aaa6db10-98da-43f3-8912-41bd6f78d368",
   "metadata": {},
   "source": []
  },
  {
   "cell_type": "markdown",
   "id": "1568ff88-e10f-40b3-b674-b3060325a219",
   "metadata": {},
   "source": [
    "## Tf.random.uniform\n",
    "#it takes the shape,minimum value, the maximum value and the seed(where set_seed is used in combination with random it  creates a reproducible sequence of tensors accross multiple calls"
   ]
  },
  {
   "cell_type": "code",
   "execution_count": null,
   "id": "6b708e6a-8e6b-4834-bbb8-49d7e02fdc9b",
   "metadata": {},
   "outputs": [],
   "source": [
    "uniform_random=tf.random.uniform([5,5],\n",
    "                                 minval=2,\n",
    "                                 maxval=5,\n",
    "                                 seed=None,\n",
    "                                 name=None,\n",
    "                                 dtype=tf.dtypes.int32\n",
    "                                )"
   ]
  },
  {
   "cell_type": "markdown",
   "id": "3183236c-2d38-4173-97da-7e7458407d63",
   "metadata": {},
   "source": [
    "## matrix operations/linear algebra"
   ]
  },
  {
   "cell_type": "code",
   "execution_count": null,
   "id": "8ebbf655-b9f8-43a0-8eb2-fc9de97f455b",
   "metadata": {},
   "outputs": [],
   "source": [
    "#transpose\n",
    "x=tf.constant([2,3,4,5])\n",
    "tf.transpose(x)"
   ]
  },
  {
   "cell_type": "markdown",
   "id": "c42530b2-f787-48fa-850a-45e13f0eb8e1",
   "metadata": {},
   "source": [
    "## Tf.linalg.matmul\n",
    "#tensorflow.linearalgebra.maltrixmultiplication\n",
    "\n",
    "#it s an operatio that  multiplies matix a and b producing(a* b)"
   ]
  },
  {
   "cell_type": "code",
   "execution_count": null,
   "id": "abaea47e-cc05-4d6c-980e-bcb69aa4ade2",
   "metadata": {},
   "outputs": [],
   "source": [
    "tf1=tf.constant([[2,3],\n",
    "                 [3,4],\n",
    "                 [5,6]])\n",
    "tf2=tf.constant([[3,4,5],\n",
    "                 [4,5,7],\n",
    "                 [5,6,7]])\n",
    "print(tf.linalg.matmul(tf1,tf2))"
   ]
  },
  {
   "cell_type": "code",
   "execution_count": null,
   "id": "7545c7f6-cf46-4c99-9e96-b3db8a00dd32",
   "metadata": {},
   "outputs": [],
   "source": []
  },
  {
   "cell_type": "code",
   "execution_count": null,
   "id": "ac12e055-0332-46a7-816d-ca0b6d5350f1",
   "metadata": {},
   "outputs": [],
   "source": []
  },
  {
   "cell_type": "code",
   "execution_count": null,
   "id": "7bbcfbf2-1292-4590-9d18-3c870591c78a",
   "metadata": {},
   "outputs": [],
   "source": []
  },
  {
   "cell_type": "code",
   "execution_count": null,
   "id": "dfbb3481-956a-421f-a7b6-ddd2720d7ead",
   "metadata": {},
   "outputs": [],
   "source": []
  },
  {
   "cell_type": "code",
   "execution_count": null,
   "id": "0e4b5d05-b5cb-4500-a795-fecd53f3bf77",
   "metadata": {},
   "outputs": [],
   "source": []
  },
  {
   "cell_type": "code",
   "execution_count": null,
   "id": "95f95e46-4c0d-4c39-8414-b4f27cc6f9b5",
   "metadata": {},
   "outputs": [],
   "source": []
  },
  {
   "cell_type": "code",
   "execution_count": null,
   "id": "fa66b91c-db9d-49c5-9f92-1059a72f9009",
   "metadata": {},
   "outputs": [],
   "source": []
  },
  {
   "cell_type": "code",
   "execution_count": null,
   "id": "f5aaaf8e-7ac9-419b-9f33-85b0d84d1739",
   "metadata": {},
   "outputs": [],
   "source": []
  },
  {
   "cell_type": "code",
   "execution_count": null,
   "id": "d8a5189a-777f-44b0-ab7d-74c6b9e4a9a2",
   "metadata": {},
   "outputs": [],
   "source": []
  },
  {
   "cell_type": "code",
   "execution_count": null,
   "id": "7d9c1a14-f433-4233-ac4f-db10eafcb0ea",
   "metadata": {},
   "outputs": [],
   "source": []
  },
  {
   "cell_type": "code",
   "execution_count": null,
   "id": "bad4946b-4786-4b55-8a85-3ed5005ec098",
   "metadata": {},
   "outputs": [],
   "source": []
  },
  {
   "cell_type": "code",
   "execution_count": null,
   "id": "b2fda1d4-bd79-47df-88a7-9f7893c17e30",
   "metadata": {},
   "outputs": [],
   "source": []
  }
 ],
 "metadata": {
  "kernelspec": {
   "display_name": "Python 3 (ipykernel)",
   "language": "python",
   "name": "python3"
  },
  "language_info": {
   "codemirror_mode": {
    "name": "ipython",
    "version": 3
   },
   "file_extension": ".py",
   "mimetype": "text/x-python",
   "name": "python",
   "nbconvert_exporter": "python",
   "pygments_lexer": "ipython3",
   "version": "3.10.12"
  }
 },
 "nbformat": 4,
 "nbformat_minor": 5
}
